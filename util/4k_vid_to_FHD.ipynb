{
 "cells": [
  {
   "cell_type": "code",
   "execution_count": null,
   "id": "initial_id",
   "metadata": {
    "collapsed": true
   },
   "outputs": [],
   "source": [
    "import cv2\n",
    "\n",
    "# Define input and output video paths\n",
    "input_video_path = \"path_to_your_4k_video.mp4\"\n",
    "output_video_path = \"output_FHD_video.mp4\"\n",
    "\n",
    "# Open the 4K video\n",
    "cap = cv2.VideoCapture(input_video_path)\n",
    "\n",
    "# Check if the video file is opened successfully\n",
    "if not cap.isOpened():\n",
    "    print(\"Error: Unable to open the video file.\")\n",
    "    exit()\n",
    "\n",
    "# Get the original video properties\n",
    "original_width = int(cap.get(cv2.CAP_PROP_FRAME_WIDTH))\n",
    "original_height = int(cap.get(cv2.CAP_PROP_FRAME_HEIGHT))\n",
    "fps = cap.get(cv2.CAP_PROP_FPS)  # Original FPS\n",
    "frame_count = int(cap.get(cv2.CAP_PROP_FRAME_COUNT))\n",
    "print(f\"Original Resolution: {original_width}x{original_height}\")\n",
    "print(f\"Original FPS: {fps}\")\n",
    "print(f\"Total Frames: {frame_count}\")\n",
    "\n",
    "# Define the FHD resolution\n",
    "fhd_width = 1920\n",
    "fhd_height = 1080\n",
    "\n",
    "# Define the output video writer with the FHD resolution\n",
    "fourcc = cv2.VideoWriter_fourcc(*'mp4v')  # Codec for MP4\n",
    "out = cv2.VideoWriter(output_video_path, fourcc, fps, (fhd_width, fhd_height))\n",
    "\n",
    "# Process the video frame by frame\n",
    "while cap.isOpened():\n",
    "    ret, frame = cap.read()\n",
    "    if not ret:\n",
    "        break  # End of video\n",
    "\n",
    "    # Resize the frame to FHD\n",
    "    resized_frame = cv2.resize(frame, (fhd_width, fhd_height))\n",
    "\n",
    "    # Write the resized frame to the output video\n",
    "    out.write(resized_frame)\n",
    "\n",
    "# Release resources\n",
    "cap.release()\n",
    "out.release()\n",
    "\n",
    "print(f\"Video resized to FHD (1920x1080) and saved as {output_video_path}\")\n"
   ]
  }
 ],
 "metadata": {
  "kernelspec": {
   "display_name": "Python 3",
   "language": "python",
   "name": "python3"
  },
  "language_info": {
   "codemirror_mode": {
    "name": "ipython",
    "version": 2
   },
   "file_extension": ".py",
   "mimetype": "text/x-python",
   "name": "python",
   "nbconvert_exporter": "python",
   "pygments_lexer": "ipython2",
   "version": "2.7.6"
  }
 },
 "nbformat": 4,
 "nbformat_minor": 5
}
