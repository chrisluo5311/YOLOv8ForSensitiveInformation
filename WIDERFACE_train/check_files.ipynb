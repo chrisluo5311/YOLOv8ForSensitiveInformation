{
 "cells": [
  {
   "cell_type": "code",
   "outputs": [
    {
     "name": "stdout",
     "output_type": "stream",
     "text": [
      "There are 12880 files in the folder '../datasets/YOLO_format_widerface/train/labels'.\n",
      "There are 12880 files in the folder '../datasets/YOLO_format_widerface/train/images'.\n",
      "There are 3222 files in the folder '../datasets/YOLO_format_widerface/val/labels'.\n",
      "There are 3222 files in the folder '../datasets/YOLO_format_widerface/val/images'.\n"
     ]
    }
   ],
   "source": [
    "import os\n",
    "\n",
    "def count_files_in_folder(folder_path):\n",
    "    try:\n",
    "        # List all items in the directory\n",
    "        items = os.listdir(folder_path)\n",
    "        # Filter out directories, keeping only files\n",
    "        files = [item for item in items if os.path.isfile(os.path.join(folder_path, item))]\n",
    "        # Count the number of files\n",
    "        num_files = len(files)\n",
    "        return num_files\n",
    "    except FileNotFoundError:\n",
    "        print(f\"The folder '{folder_path}' does not exist.\")\n",
    "        return 0\n",
    "    except Exception as e:\n",
    "        print(f\"An error occurred: {e}\")\n",
    "        return 0\n",
    "\n",
    "check_labels_folder_path = '../datasets/YOLO_format_widerface/train/labels'\n",
    "check_images_folder_path = '../datasets/YOLO_format_widerface/train/images'\n",
    "\n",
    "# check_labels_test_path = '/content/drive/Shareddrives/1/All/test/images'\n",
    "# check_images_test_path = '/content/drive/Shareddrives/1/All/test/images'\n",
    "# \n",
    "check_labels_valid_path = '../datasets/YOLO_format_widerface/val/labels'\n",
    "check_images_valid_path = '../datasets/YOLO_format_widerface/val/images'\n",
    "\n",
    "labels_file_count = count_files_in_folder(check_images_folder_path)\n",
    "image_file_count = count_files_in_folder(check_images_folder_path)\n",
    "print(f\"There are {labels_file_count} files in the folder '{check_labels_folder_path}'.\")\n",
    "print(f\"There are {image_file_count} files in the folder '{check_images_folder_path}'.\")\n",
    "\n",
    "\n",
    "# test_labels_file_count = count_files_in_folder(check_labels_test_path)\n",
    "# test_image_file_count = count_files_in_folder(check_images_test_path)\n",
    "# print(f\"There are {test_labels_file_count} files in the folder '{check_labels_test_path}'.\")\n",
    "# print(f\"There are {test_image_file_count} files in the folder '{check_images_test_path}'.\")\n",
    "\n",
    "\n",
    "\n",
    "valid_labels_file_count = count_files_in_folder(check_labels_valid_path)\n",
    "valid_image_file_count = count_files_in_folder(check_images_valid_path)\n",
    "print(f\"There are {valid_labels_file_count} files in the folder '{check_labels_valid_path}'.\")\n",
    "print(f\"There are {valid_image_file_count} files in the folder '{check_images_valid_path}'.\")\n"
   ],
   "metadata": {
    "collapsed": false,
    "ExecuteTime": {
     "end_time": "2024-11-25T21:44:37.835239Z",
     "start_time": "2024-11-25T21:44:37.674458Z"
    }
   },
   "id": "fb6044b952d4623",
   "execution_count": 2
  },
  {
   "cell_type": "code",
   "outputs": [],
   "source": [],
   "metadata": {
    "collapsed": false
   },
   "id": "fdcd5bdc8ae4823f"
  }
 ],
 "metadata": {
  "kernelspec": {
   "display_name": "Python 3",
   "language": "python",
   "name": "python3"
  },
  "language_info": {
   "codemirror_mode": {
    "name": "ipython",
    "version": 2
   },
   "file_extension": ".py",
   "mimetype": "text/x-python",
   "name": "python",
   "nbconvert_exporter": "python",
   "pygments_lexer": "ipython2",
   "version": "2.7.6"
  }
 },
 "nbformat": 4,
 "nbformat_minor": 5
}
